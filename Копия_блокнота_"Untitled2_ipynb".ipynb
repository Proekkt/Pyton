{
  "nbformat": 4,
  "nbformat_minor": 0,
  "metadata": {
    "colab": {
      "provenance": [],
      "authorship_tag": "ABX9TyNfZPbFp4MM1p3lONVRlqU8",
      "include_colab_link": true
    },
    "kernelspec": {
      "name": "python3",
      "display_name": "Python 3"
    },
    "language_info": {
      "name": "python"
    }
  },
  "cells": [
    {
      "cell_type": "markdown",
      "metadata": {
        "id": "view-in-github",
        "colab_type": "text"
      },
      "source": [
        "<a href=\"https://colab.research.google.com/github/Proekkt/Pyton/blob/main/%D0%9A%D0%BE%D0%BF%D0%B8%D1%8F_%D0%B1%D0%BB%D0%BE%D0%BA%D0%BD%D0%BE%D1%82%D0%B0_%22Untitled2_ipynb%22.ipynb\" target=\"_parent\"><img src=\"https://colab.research.google.com/assets/colab-badge.svg\" alt=\"Open In Colab\"/></a>"
      ]
    },
    {
      "cell_type": "code",
      "execution_count": null,
      "metadata": {
        "id": "7Bi0Z7Hy5uqx"
      },
      "outputs": [],
      "source": [
        "#@title Текст заголовка по умолчанию\n",
        "num=input('Введите число')\n",
        "if float(num)>0:\n",
        "  print('Положительное число')\n",
        "  elif \n",
        "  float(num)==0:\n",
        "    print('это 0')\n",
        "    else:\n",
        "      print('Отрицательное число')"
      ]
    },
    {
      "cell_type": "code",
      "source": [
        "import numpy as np\n",
        "import matplotlib.pyplot as plt\n",
        "import CoolProp.CoolProp as ct\n",
        "q=700 #Расход Т/ч\n",
        "d=300 #Диаметр трубопровода мм\n",
        "Delta=2 #Шероховатость мм/м\n",
        "p_bx=3*101325 #атм\n",
        "T=80+273.15 #К\n",
        "D=ct.PropsSI(\"D\",\"T\",T,\"P\",p_bx,\"water\") #плотность\n",
        "Q=q/D \n",
        "F=np.pi*(d/2)**2\n",
        "V=Q/F\n",
        "u=ct.PropsSI(\"viscosity\",\"T\",T,\"P\",p_bx,\"water\")\n",
        "Re=(d*V)/(u/D)\n",
        "if Re<2300:\n",
        "  l=64/Re\n",
        "elif Re<4000:\n",
        "  l=0\n",
        "elif Re<10/Delta and Re==100/Delta:\n",
        "  l=0.3164/Re**0.25\n",
        "elif Re<5660/Delta and Re==560/Delta:\n",
        "    l=0.11*(Delta+(68/Re))\n",
        "else:\n",
        "  l=0.11*Delta**0.25\n",
        "dh=l*(L/d)*(V/2*9.8)\n",
        "dp=dh*D*D*9.8\n",
        "TT=np.linspace(0,100,500)\n",
        "dp\n",
        "\n",
        "\n",
        "  \n",
        "\n"
      ],
      "metadata": {
        "colab": {
          "base_uri": "https://localhost:8080/",
          "height": 373
        },
        "id": "REP99_O28NHY",
        "outputId": "0178d1cf-f1ed-4405-bbf5-cdb7654a1b18"
      },
      "execution_count": null,
      "outputs": [
        {
          "output_type": "error",
          "ename": "ModuleNotFoundError",
          "evalue": "ignored",
          "traceback": [
            "\u001b[0;31m---------------------------------------------------------------------------\u001b[0m",
            "\u001b[0;31mModuleNotFoundError\u001b[0m                       Traceback (most recent call last)",
            "\u001b[0;32m<ipython-input-16-933306d9eba6>\u001b[0m in \u001b[0;36m<cell line: 3>\u001b[0;34m()\u001b[0m\n\u001b[1;32m      1\u001b[0m \u001b[0;32mimport\u001b[0m \u001b[0mnumpy\u001b[0m \u001b[0;32mas\u001b[0m \u001b[0mnp\u001b[0m\u001b[0;34m\u001b[0m\u001b[0;34m\u001b[0m\u001b[0m\n\u001b[1;32m      2\u001b[0m \u001b[0;32mimport\u001b[0m \u001b[0mmatplotlib\u001b[0m\u001b[0;34m.\u001b[0m\u001b[0mpyplot\u001b[0m \u001b[0;32mas\u001b[0m \u001b[0mplt\u001b[0m\u001b[0;34m\u001b[0m\u001b[0;34m\u001b[0m\u001b[0m\n\u001b[0;32m----> 3\u001b[0;31m \u001b[0;32mimport\u001b[0m \u001b[0mCoolProp\u001b[0m\u001b[0;34m.\u001b[0m\u001b[0mCoolProp\u001b[0m \u001b[0;32mas\u001b[0m \u001b[0mct\u001b[0m\u001b[0;34m\u001b[0m\u001b[0;34m\u001b[0m\u001b[0m\n\u001b[0m\u001b[1;32m      4\u001b[0m \u001b[0mq\u001b[0m\u001b[0;34m=\u001b[0m\u001b[0;36m700\u001b[0m \u001b[0;31m#Расход Т/ч\u001b[0m\u001b[0;34m\u001b[0m\u001b[0;34m\u001b[0m\u001b[0m\n\u001b[1;32m      5\u001b[0m \u001b[0md\u001b[0m\u001b[0;34m=\u001b[0m\u001b[0;36m300\u001b[0m \u001b[0;31m#Диаметр трубопровода мм\u001b[0m\u001b[0;34m\u001b[0m\u001b[0;34m\u001b[0m\u001b[0m\n",
            "\u001b[0;31mModuleNotFoundError\u001b[0m: No module named 'CoolProp'",
            "",
            "\u001b[0;31m---------------------------------------------------------------------------\u001b[0;32m\nNOTE: If your import is failing due to a missing package, you can\nmanually install dependencies using either !pip or !apt.\n\nTo view examples of installing some common dependencies, click the\n\"Open Examples\" button below.\n\u001b[0;31m---------------------------------------------------------------------------\u001b[0m\n"
          ],
          "errorDetails": {
            "actions": [
              {
                "action": "open_url",
                "actionText": "Open Examples",
                "url": "/notebooks/snippets/importing_libraries.ipynb"
              }
            ]
          }
        }
      ]
    }
  ]
}