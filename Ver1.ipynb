{
  "nbformat": 4,
  "nbformat_minor": 0,
  "metadata": {
    "colab": {
      "provenance": [],
      "authorship_tag": "ABX9TyPB1ooTS/VrfeqMSqNLiTCX",
      "include_colab_link": true
    },
    "kernelspec": {
      "name": "python3",
      "display_name": "Python 3"
    },
    "language_info": {
      "name": "python"
    }
  },
  "cells": [
    {
      "cell_type": "markdown",
      "metadata": {
        "id": "view-in-github",
        "colab_type": "text"
      },
      "source": [
        "<a href=\"https://colab.research.google.com/github/Proekkt/Pyton/blob/main/Ver1.ipynb\" target=\"_parent\"><img src=\"https://colab.research.google.com/assets/colab-badge.svg\" alt=\"Open In Colab\"/></a>"
      ]
    },
    {
      "cell_type": "code",
      "execution_count": 2,
      "metadata": {
        "colab": {
          "base_uri": "https://localhost:8080/",
          "height": 130
        },
        "id": "thbHhCFwnxa_",
        "outputId": "8ba2fe53-1bd0-4870-aa16-c09f47bb95b5"
      },
      "outputs": [
        {
          "output_type": "error",
          "ename": "IndentationError",
          "evalue": "ignored",
          "traceback": [
            "\u001b[0;36m  File \u001b[0;32m\"<ipython-input-2-f8d98cb53f28>\"\u001b[0;36m, line \u001b[0;32m4\u001b[0m\n\u001b[0;31m    x,y=p\u001b[0m\n\u001b[0m    ^\u001b[0m\n\u001b[0;31mIndentationError\u001b[0m\u001b[0;31m:\u001b[0m expected an indented block\n"
          ]
        }
      ],
      "source": [
        "import numpy as np\n",
        "from skipy.optimize import fsolve\n",
        "def Z(P):\n",
        "x,y=p\n",
        "return(x**2+x*y+7,y**2+np.sin(x)+10)\n",
        "k=fsolve(z,(0,1))\n",
        "print(k)\n",
        "\n"
      ]
    }
  ]
}